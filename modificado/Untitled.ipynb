{
 "cells": [
  {
   "cell_type": "code",
   "execution_count": 1,
   "metadata": {},
   "outputs": [],
   "source": [
    "from numpy import loadtxt, arange, pi, exp, sin, cos, array, sqrt, array\n",
    "import matplotlib.pyplot as plt\n",
    "from glob import glob\n",
    "from statistics import mean"
   ]
  },
  {
   "cell_type": "code",
   "execution_count": 2,
   "metadata": {},
   "outputs": [],
   "source": [
    "X = 1\n",
    "Y = 2\n",
    "VX = 3\n",
    "VY = 4\n",
    "\n",
    "Lx = 1\n",
    "Ly = 1\n",
    "dvc_eta = 8.9e-4;\n",
    "\n",
    "Lref_x = Lx\n",
    "Lref_y = Ly"
   ]
  },
  {
   "cell_type": "code",
   "execution_count": 3,
   "metadata": {},
   "outputs": [],
   "source": [
    "def u(x, y, t, Re):\n",
    "    b = -8 * pi * pi/ Re\n",
    "    Vo = 5e-1\n",
    "    return -1 * Vo * exp(b * t) * cos(2*pi*x / Lref_x) * sin(2*pi*y / Lref_y)\n",
    "\n",
    "def v( x, y, t, Re):\n",
    "    b = -8 * pi * pi/ Re\n",
    "    Vo = 5e-1\n",
    "    return Vo * exp(b * t) * cos(2*pi*y / Lref_y) * sin(2*pi*x / Lref_x)\n"
   ]
  },
  {
   "cell_type": "code",
   "execution_count": 26,
   "metadata": {},
   "outputs": [],
   "source": [
    "dt = 5e-5\n",
    "tTotal = 4001*dt\n",
    "V_max = []\n",
    "t = arange(0, tTotal + dt, dt)\n",
    "\n",
    "x = []\n",
    "y = []\n",
    "velx = []\n",
    "vely = []"
   ]
  },
  {
   "cell_type": "code",
   "execution_count": 27,
   "metadata": {},
   "outputs": [],
   "source": [
    "partID = 200\n",
    "for file_name in glob(\"output_4096/*\"):\n",
    "    data = loadtxt(file_name, usecols=(0, X, Y, VX, VY))\n",
    "\n",
    "    x.append(data[partID, X])\n",
    "    y.append(data[partID, Y])\n",
    "    velx.append(data[partID, VX])\n",
    "    vely.append(data[partID, VY])\n",
    "\n",
    "    V = sqrt( data[:,VX] * data[:, VX] +  data[:,VY] * data[:, VY])\n",
    "    V_max.append(max(V))"
   ]
  },
  {
   "cell_type": "code",
   "execution_count": 23,
   "metadata": {},
   "outputs": [
    {
     "data": {
      "text/plain": [
       "33.21023588580771"
      ]
     },
     "execution_count": 23,
     "metadata": {},
     "output_type": "execute_result"
    }
   ],
   "source": [
    "\n",
    "Re = mean(V_max) * Lx / dvc_eta\n",
    "x = array(x)\n",
    "y = array(y)\n",
    "velx = array(velx)\n",
    "vely = array(vely)\n",
    "\n",
    "Re"
   ]
  },
  {
   "cell_type": "code",
   "execution_count": 24,
   "metadata": {},
   "outputs": [
    {
     "data": {
      "text/plain": [
       "[<matplotlib.lines.Line2D at 0x1feec6c87c8>]"
      ]
     },
     "execution_count": 24,
     "metadata": {},
     "output_type": "execute_result"
    },
    {
     "data": {
      "image/png": "[encoded data removed]",
      "text/plain": [
       "<Figure size 432x288 with 1 Axes>"
      ]
     },
     "metadata": {
      "needs_background": "light"
     },
     "output_type": "display_data"
    }
   ],
   "source": [
    "plt.plot(t, velx, 'ok')\n",
    "plt.plot(t, u(x,y,t, Re), '--k')\n",
    "#plt.plot(t, vely, 'or')\n",
    "#plt.plot(t, -1*u(t), '--r') \n",
    "#plt.title(\"%.2f\"%Re)\n",
    "#plt.show()\n"
   ]
  },
  {
   "cell_type": "code",
   "execution_count": 14,
   "metadata": {},
   "outputs": [
    {
     "data": {
      "text/plain": [
       "array([0.00e+00, 2.00e-06, 4.00e-06, 6.00e-06, 8.00e-06, 1.00e-05,\n",
       "       1.20e-05, 1.40e-05, 1.60e-05, 1.80e-05, 2.00e-05, 2.20e-05,\n",
       "       2.40e-05, 2.60e-05, 2.80e-05, 3.00e-05, 3.20e-05, 3.40e-05,\n",
       "       3.60e-05, 3.80e-05, 4.00e-05, 4.20e-05, 4.40e-05, 4.60e-05,\n",
       "       4.80e-05, 5.00e-05, 5.20e-05, 5.40e-05, 5.60e-05, 5.80e-05,\n",
       "       6.00e-05, 6.20e-05, 6.40e-05, 6.60e-05, 6.80e-05, 7.00e-05,\n",
       "       7.20e-05, 7.40e-05, 7.60e-05, 7.80e-05, 8.00e-05, 8.20e-05,\n",
       "       8.40e-05, 8.60e-05, 8.80e-05, 9.00e-05, 9.20e-05, 9.40e-05,\n",
       "       9.60e-05, 9.80e-05, 1.00e-04, 1.02e-04, 1.04e-04, 1.06e-04,\n",
       "       1.08e-04, 1.10e-04, 1.12e-04, 1.14e-04, 1.16e-04, 1.18e-04,\n",
       "       1.20e-04, 1.22e-04, 1.24e-04, 1.26e-04, 1.28e-04, 1.30e-04,\n",
       "       1.32e-04, 1.34e-04, 1.36e-04, 1.38e-04, 1.40e-04, 1.42e-04,\n",
       "       1.44e-04, 1.46e-04, 1.48e-04, 1.50e-04, 1.52e-04, 1.54e-04,\n",
       "       1.56e-04, 1.58e-04, 1.60e-04, 1.62e-04, 1.64e-04, 1.66e-04,\n",
       "       1.68e-04, 1.70e-04, 1.72e-04, 1.74e-04, 1.76e-04, 1.78e-04,\n",
       "       1.80e-04, 1.82e-04, 1.84e-04, 1.86e-04, 1.88e-04, 1.90e-04,\n",
       "       1.92e-04, 1.94e-04, 1.96e-04, 1.98e-04, 2.00e-04, 2.02e-04,\n",
       "       2.04e-04, 2.06e-04, 2.08e-04, 2.10e-04, 2.12e-04, 2.14e-04,\n",
       "       2.16e-04, 2.18e-04, 2.20e-04, 2.22e-04, 2.24e-04, 2.26e-04,\n",
       "       2.28e-04, 2.30e-04, 2.32e-04, 2.34e-04, 2.36e-04, 2.38e-04,\n",
       "       2.40e-04, 2.42e-04, 2.44e-04, 2.46e-04, 2.48e-04, 2.50e-04,\n",
       "       2.52e-04, 2.54e-04, 2.56e-04, 2.58e-04, 2.60e-04, 2.62e-04,\n",
       "       2.64e-04, 2.66e-04, 2.68e-04, 2.70e-04, 2.72e-04, 2.74e-04,\n",
       "       2.76e-04, 2.78e-04, 2.80e-04, 2.82e-04, 2.84e-04, 2.86e-04,\n",
       "       2.88e-04, 2.90e-04, 2.92e-04, 2.94e-04, 2.96e-04, 2.98e-04,\n",
       "       3.00e-04, 3.02e-04, 3.04e-04, 3.06e-04, 3.08e-04, 3.10e-04,\n",
       "       3.12e-04, 3.14e-04, 3.16e-04, 3.18e-04, 3.20e-04, 3.22e-04,\n",
       "       3.24e-04, 3.26e-04, 3.28e-04, 3.30e-04, 3.32e-04, 3.34e-04,\n",
       "       3.36e-04, 3.38e-04, 3.40e-04, 3.42e-04, 3.44e-04, 3.46e-04,\n",
       "       3.48e-04, 3.50e-04, 3.52e-04, 3.54e-04, 3.56e-04, 3.58e-04,\n",
       "       3.60e-04, 3.62e-04, 3.64e-04, 3.66e-04, 3.68e-04, 3.70e-04,\n",
       "       3.72e-04, 3.74e-04, 3.76e-04, 3.78e-04, 3.80e-04, 3.82e-04,\n",
       "       3.84e-04, 3.86e-04, 3.88e-04, 3.90e-04, 3.92e-04, 3.94e-04,\n",
       "       3.96e-04, 3.98e-04, 4.00e-04, 4.02e-04, 4.04e-04, 4.06e-04,\n",
       "       4.08e-04, 4.10e-04, 4.12e-04, 4.14e-04, 4.16e-04, 4.18e-04,\n",
       "       4.20e-04, 4.22e-04, 4.24e-04, 4.26e-04, 4.28e-04, 4.30e-04,\n",
       "       4.32e-04, 4.34e-04, 4.36e-04, 4.38e-04, 4.40e-04, 4.42e-04,\n",
       "       4.44e-04, 4.46e-04, 4.48e-04, 4.50e-04, 4.52e-04, 4.54e-04,\n",
       "       4.56e-04, 4.58e-04, 4.60e-04, 4.62e-04, 4.64e-04, 4.66e-04,\n",
       "       4.68e-04, 4.70e-04, 4.72e-04, 4.74e-04, 4.76e-04, 4.78e-04,\n",
       "       4.80e-04, 4.82e-04, 4.84e-04, 4.86e-04, 4.88e-04, 4.90e-04,\n",
       "       4.92e-04, 4.94e-04, 4.96e-04, 4.98e-04, 5.00e-04, 5.02e-04,\n",
       "       5.04e-04, 5.06e-04, 5.08e-04, 5.10e-04, 5.12e-04, 5.14e-04,\n",
       "       5.16e-04, 5.18e-04, 5.20e-04, 5.22e-04, 5.24e-04, 5.26e-04,\n",
       "       5.28e-04, 5.30e-04, 5.32e-04, 5.34e-04, 5.36e-04, 5.38e-04,\n",
       "       5.40e-04, 5.42e-04, 5.44e-04, 5.46e-04, 5.48e-04, 5.50e-04,\n",
       "       5.52e-04, 5.54e-04, 5.56e-04, 5.58e-04, 5.60e-04, 5.62e-04,\n",
       "       5.64e-04, 5.66e-04, 5.68e-04, 5.70e-04, 5.72e-04, 5.74e-04,\n",
       "       5.76e-04, 5.78e-04, 5.80e-04, 5.82e-04, 5.84e-04, 5.86e-04,\n",
       "       5.88e-04, 5.90e-04, 5.92e-04, 5.94e-04, 5.96e-04, 5.98e-04,\n",
       "       6.00e-04, 6.02e-04, 6.04e-04, 6.06e-04, 6.08e-04, 6.10e-04,\n",
       "       6.12e-04, 6.14e-04, 6.16e-04, 6.18e-04, 6.20e-04, 6.22e-04,\n",
       "       6.24e-04, 6.26e-04, 6.28e-04, 6.30e-04, 6.32e-04, 6.34e-04,\n",
       "       6.36e-04, 6.38e-04, 6.40e-04, 6.42e-04, 6.44e-04, 6.46e-04,\n",
       "       6.48e-04, 6.50e-04, 6.52e-04, 6.54e-04, 6.56e-04, 6.58e-04,\n",
       "       6.60e-04, 6.62e-04, 6.64e-04, 6.66e-04, 6.68e-04, 6.70e-04,\n",
       "       6.72e-04, 6.74e-04, 6.76e-04, 6.78e-04, 6.80e-04, 6.82e-04,\n",
       "       6.84e-04, 6.86e-04, 6.88e-04, 6.90e-04, 6.92e-04, 6.94e-04,\n",
       "       6.96e-04, 6.98e-04, 7.00e-04, 7.02e-04, 7.04e-04, 7.06e-04,\n",
       "       7.08e-04, 7.10e-04, 7.12e-04, 7.14e-04, 7.16e-04, 7.18e-04,\n",
       "       7.20e-04, 7.22e-04, 7.24e-04, 7.26e-04, 7.28e-04, 7.30e-04,\n",
       "       7.32e-04, 7.34e-04, 7.36e-04, 7.38e-04, 7.40e-04, 7.42e-04,\n",
       "       7.44e-04, 7.46e-04, 7.48e-04, 7.50e-04, 7.52e-04, 7.54e-04,\n",
       "       7.56e-04, 7.58e-04, 7.60e-04, 7.62e-04, 7.64e-04, 7.66e-04,\n",
       "       7.68e-04, 7.70e-04, 7.72e-04, 7.74e-04, 7.76e-04, 7.78e-04,\n",
       "       7.80e-04, 7.82e-04, 7.84e-04, 7.86e-04, 7.88e-04, 7.90e-04,\n",
       "       7.92e-04, 7.94e-04, 7.96e-04, 7.98e-04, 8.00e-04])"
      ]
     },
     "execution_count": 14,
     "metadata": {},
     "output_type": "execute_result"
    }
   ],
   "source": [
    "t * 0.4"
   ]
  },
  {
   "cell_type": "code",
   "execution_count": null,
   "metadata": {},
   "outputs": [],
   "source": []
  }
 ],
 "metadata": {
  "kernelspec": {
   "display_name": "Python 3",
   "language": "python",
   "name": "python3"
  },
  "language_info": {
   "codemirror_mode": {
    "name": "ipython",
    "version": 3
   },
   "file_extension": ".py",
   "mimetype": "text/x-python",
   "name": "python",
   "nbconvert_exporter": "python",
   "pygments_lexer": "ipython3",
   "version": "3.7.6"
  }
 },
 "nbformat": 4,
 "nbformat_minor": 4
}
